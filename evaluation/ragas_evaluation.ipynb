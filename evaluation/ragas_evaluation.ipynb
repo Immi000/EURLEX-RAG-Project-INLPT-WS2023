{
 "cells": [
  {
   "cell_type": "code",
   "execution_count": null,
   "metadata": {},
   "outputs": [],
   "source": [
    "import os\n",
    "\n",
    "#os.environ[\"CUDA_VISIBLE_DEVICES\"] = \"1,6,7,8,9\" # important to set before imports using torch\n",
    "\n",
    "from ragas import evaluate, llms\n",
    "from ragas.metrics import (\n",
    "    answer_relevancy,\n",
    "    faithfulness,\n",
    "    context_recall,\n",
    "    context_precision,\n",
    ")\n",
    "from datasets import Dataset\n",
    "# from chatmodel import RAG\n",
    "from tqdm.auto import tqdm\n",
    "import pandas as pd\n",
    "# from ragas.llms.base import BaseRagasLLM\n",
    "# from ragas.embeddings.base import BaseRagasEmbeddings\n",
    "from llm import HuggingfaceLlama2, ChatGPT\n",
    "# from langchain.embeddings.huggingface import HuggingFaceEmbeddings\n",
    "# from transformers import pipeline\n",
    "# from transformers import LlamaTokenizer\n",
    "from langchain_openai import ChatOpenAI\n",
    "from dotenv import load_dotenv, find_dotenv\n",
    "from io import StringIO\n",
    "import requests\n",
    "\n",
    "_ = load_dotenv()"
   ]
  },
  {
   "cell_type": "code",
   "execution_count": null,
   "metadata": {},
   "outputs": [],
   "source": [
    "overall_result_values = None\n",
    "for i in range(0, 40):\n",
    "    dataset_pd = pd.read_pickle('only_recursive_splitter_evalresults.pkl')\n",
    "    dataset_pd = dataset_pd.rename(columns={'questions': 'question', 'context': 'contexts', 'sample_answers': 'answer', 'model_answers': 'ground_truth'})\n",
    "    dataset = Dataset.from_pandas(dataset_pd.iloc[i:i+1])\n",
    "    print(\"dataset\", dataset)\n",
    "    result = evaluate(dataset, metrics=[\n",
    "            context_precision,\n",
    "            faithfulness,\n",
    "            answer_relevancy,\n",
    "            context_recall,\n",
    "        ],\n",
    "        raise_exceptions=False,\n",
    "        #max_workers=4,\n",
    "        llm=llms.llm_factory(model='gpt-3.5-turbo-0125')\n",
    "    )\n",
    "    result_pandas = result.to_pandas()\n",
    "    if overall_result_values is None:\n",
    "        overall_result_values = result_pandas\n",
    "    else:\n",
    "        print(\"overall_result_values.columns=\", overall_result_values.columns)\n",
    "        print(\"result_pandas.columns=\", result_pandas.columns)\n",
    "        overall_result_values.loc[i] = result_pandas\n",
    "    overall_result_values.to_pickle(\"only_recursive_splitter_evalresults_ragas.pkl\")\n",
    "    print(overall_result_values)"
   ]
  },
  {
   "cell_type": "code",
   "execution_count": null,
   "metadata": {},
   "outputs": [],
   "source": [
    "pd.read_pickle(\"only_recursive_splitter_evalresults_ragas.pkl\")"
   ]
  },
  {
   "cell_type": "code",
   "execution_count": null,
   "metadata": {},
   "outputs": [],
   "source": [
    "nlp_rag_reindexed = pd.read_pickle(\"nlp-rag-reindexedresults_with_context1_ragas.pkl\")\n",
    "nlp_rag_reindexed_2 = pd.read_pickle(\"nlp-rag-reindexedresults_with_context2_ragas.pkl\")\n",
    "only_recursive = pd.read_pickle(\"only_recursive_splitter_evalresults_ragas.pkl\")\n",
    "new_embedding = pd.read_pickle(\"new_embeddingresults_combined.pkl\")\n",
    "vals = {}\n",
    "for k in [\"context_precision\", \"context_recall\", \"context_relevancy\", \"faithfulness\", \"answer_relevancy\", \"answer_correctness\"]:\n",
    "    vals[k] = []\n",
    "    vals[k].append(nlp_rag_reindexed[k].mean())\n",
    "    vals[k].append(nlp_rag_reindexed_2[k].mean())\n",
    "    vals[k].append(only_recursive[k].mean())\n",
    "    vals[k].append(new_embedding[k].mean())\n",
    "results = pd.DataFrame(vals, )\n",
    "results.index = [\"Semantic-Splitting-1N\", \"Semantic-Splitting-2N\", \"NaiveSplitting\", \"Semantic-Splitting-2N-LE\"]\n",
    "print(results)\n",
    "results.to_csv(\"results.csv\")\n",
    "print(results.transpose().to_html())\n",
    "# for i in range(39, 30, -1):\n",
    "#     print(nlp_rag_reindexed_2.sort_values(\"answer_correctness\").iloc[i][[\"question\", \"answer\", \"ground_truth\", \"answer_correctness\"]].values)"
   ]
  },
  {
   "cell_type": "code",
   "execution_count": null,
   "metadata": {},
   "outputs": [],
   "source": [
    "ax = results.transpose().plot.bar(figsize=(12, 7))\n",
    "ax.legend(loc=\"best\")\n",
    "ax.tick_params(axis=\"x\", labelrotation=0)\n",
    "ax.figure.savefig(\"comparison.png\")\n",
    "#results.plot.bar()"
   ]
  },
  {
   "cell_type": "code",
   "execution_count": null,
   "metadata": {},
   "outputs": [],
   "source": [
    "import numpy as np\n",
    "import matplotlib.pyplot as plt\n",
    "\n",
    "data = np.array([[19, 14, 6, 36, 3],\n",
    "                 [12, 12, 1, 32, 1],\n",
    "                 [18, 25, 0, 33, 0],\n",
    "                 [13, 19, 0, 32, 5],\n",
    "                 [12, 14, 0, 33, 0],\n",
    "                 [16, 14, 7, 30, 0],\n",
    "                 [11, 18, 5, 31, 2],\n",
    "                 [17, 11, 3, 46, 7]])\n",
    "x = np.arange(data.shape[0])\n",
    "dx = (np.arange(data.shape[1])-data.shape[1]/2.)/(data.shape[1]+2.)\n",
    "d = 1./(data.shape[1]+2.)\n",
    "\n",
    "\n",
    "fig, ax=plt.subplots()\n",
    "for i in range(data.shape[1]):\n",
    "    ax.bar(x+dx[i],data[:,i], width=d, label=\"label {}\".format(i))\n",
    "\n",
    "plt.legend(framealpha=1)\n",
    "plt.show()"
   ]
  }
 ],
 "metadata": {
  "kernelspec": {
   "display_name": ".venv",
   "language": "python",
   "name": "python3"
  },
  "language_info": {
   "codemirror_mode": {
    "name": "ipython",
    "version": 3
   },
   "file_extension": ".py",
   "mimetype": "text/x-python",
   "name": "python",
   "nbconvert_exporter": "python",
   "pygments_lexer": "ipython3",
   "version": "3.9.16"
  }
 },
 "nbformat": 4,
 "nbformat_minor": 2
}
