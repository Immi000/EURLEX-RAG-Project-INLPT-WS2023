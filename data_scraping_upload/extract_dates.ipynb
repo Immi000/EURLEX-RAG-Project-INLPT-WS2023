{
 "cells": [
  {
   "cell_type": "code",
   "execution_count": 1,
   "metadata": {},
   "outputs": [],
   "source": [
    "import json\n",
    "import os\n",
    "from openai import OpenAI\n",
    "from tqdm.auto import tqdm\n",
    "from IPython.display import clear_output\n",
    "import pandas as pd\n",
    "\n",
    "client = OpenAI(api_key=os.getenv(\"OPENAI_API_KEY\"))"
   ]
  },
  {
   "cell_type": "code",
   "execution_count": null,
   "metadata": {},
   "outputs": [
    {
     "data": {
      "text/html": [
       "<div>\n",
       "<style scoped>\n",
       "    .dataframe tbody tr th:only-of-type {\n",
       "        vertical-align: middle;\n",
       "    }\n",
       "\n",
       "    .dataframe tbody tr th {\n",
       "        vertical-align: top;\n",
       "    }\n",
       "\n",
       "    .dataframe thead th {\n",
       "        text-align: right;\n",
       "    }\n",
       "</style>\n",
       "<table border=\"1\" class=\"dataframe\">\n",
       "  <thead>\n",
       "    <tr style=\"text-align: right;\">\n",
       "      <th></th>\n",
       "      <th>doc</th>\n",
       "      <th>index</th>\n",
       "      <th>type</th>\n",
       "      <th>content</th>\n",
       "    </tr>\n",
       "  </thead>\n",
       "  <tbody>\n",
       "    <tr>\n",
       "      <th>0</th>\n",
       "      <td>CELEX_32019R2019</td>\n",
       "      <td>0</td>\n",
       "      <td>table_row</td>\n",
       "      <td>5.12.2019 EN Official Journal of the European ...</td>\n",
       "    </tr>\n",
       "    <tr>\n",
       "      <th>1</th>\n",
       "      <td>CELEX_32019R2019</td>\n",
       "      <td>1</td>\n",
       "      <td>title</td>\n",
       "      <td>COMMISSION REGULATION (EU) 2019/2019</td>\n",
       "    </tr>\n",
       "    <tr>\n",
       "      <th>2</th>\n",
       "      <td>CELEX_32019R2019</td>\n",
       "      <td>2</td>\n",
       "      <td>title</td>\n",
       "      <td>laying down ecodesign requirements for refrige...</td>\n",
       "    </tr>\n",
       "    <tr>\n",
       "      <th>3</th>\n",
       "      <td>CELEX_32019R2019</td>\n",
       "      <td>3</td>\n",
       "      <td>title</td>\n",
       "      <td>(Text with EEA relevance)</td>\n",
       "    </tr>\n",
       "    <tr>\n",
       "      <th>4</th>\n",
       "      <td>CELEX_32019R2019</td>\n",
       "      <td>4</td>\n",
       "      <td>text</td>\n",
       "      <td>THE EUROPEAN COMMISSION,</td>\n",
       "    </tr>\n",
       "  </tbody>\n",
       "</table>\n",
       "</div>"
      ],
      "text/plain": [
       "                doc  index       type  \\\n",
       "0  CELEX_32019R2019      0  table_row   \n",
       "1  CELEX_32019R2019      1      title   \n",
       "2  CELEX_32019R2019      2      title   \n",
       "3  CELEX_32019R2019      3      title   \n",
       "4  CELEX_32019R2019      4       text   \n",
       "\n",
       "                                             content  \n",
       "0  5.12.2019 EN Official Journal of the European ...  \n",
       "1               COMMISSION REGULATION (EU) 2019/2019  \n",
       "2  laying down ecodesign requirements for refrige...  \n",
       "3                          (Text with EEA relevance)  \n",
       "4                           THE EUROPEAN COMMISSION,  "
      ]
     },
     "metadata": {},
     "output_type": "display_data"
    }
   ],
   "source": [
    "docs = pd.read_csv(\"data_acquisition/raw_data.csv\")\n",
    "docs.head()"
   ]
  },
  {
   "cell_type": "code",
   "execution_count": null,
   "metadata": {},
   "outputs": [],
   "source": [
    "dates = {}"
   ]
  },
  {
   "cell_type": "code",
   "execution_count": null,
   "metadata": {},
   "outputs": [
    {
     "name": "stdout",
     "output_type": "stream",
     "text": [
      "processed 65252 documents\n"
     ]
    }
   ],
   "source": [
    "j = 0\n",
    "for i, row in docs[docs[\"index\"] == 0].iterrows():\n",
    "    j += 1\n",
    "    document = row['doc']\n",
    "    content = str(row[\"content\"])\n",
    "    splt = content.split(' ')\n",
    "    if len(splt) > 1:\n",
    "        date = splt[0]\n",
    "        dates[document] = date\n",
    "    else:\n",
    "        sel = docs[docs[\"doc\"] == document]\n",
    "        line = sel[sel['index'] == 1]['content'].values[0]\n",
    "        date = completion = client.chat.completions.create(model=\"gpt-3.5-turbo\",\n",
    "                                                   messages=[\n",
    "                                                       {\"role\": \"system\", \"content\": \"You are a simple helper whose job it is to extract the date of an article from a headline. You are only supposed to return the date in the format dd.mm.yyyy.\\n \\\n",
    "                                                        Example:\\n \\\n",
    "                                                        Headline: 94/833/Euratom: Opinion of the Commission of 14 December 1994 concerning the plan for the disposal of radioactive waste from the Chooz B nuclear power station\\n \\\n",
    "                                                        Output: 14.12.1994\\n\\\n",
    "                                                        Pad the date with zeros if necessary.\"},\n",
    "                                                       {\"role\": \"user\", \"content\": f\"Headline: {line}\\nOutput:\"}\n",
    "                                                   ]).choices[0].message.content\n",
    "        match = re.fullmatch(r'(0[1-9]|[12][0-9]|3[01])\\.(0[1-9]|1[012])\\.(19|20)\\d\\d', str(date))\n",
    "        dates[document] = match.string\n",
    "    clear_output(wait=True)\n",
    "    print(f\"processed {j} documents\")"
   ]
  },
  {
   "cell_type": "code",
   "execution_count": null,
   "metadata": {},
   "outputs": [],
   "source": [
    "with open(\"dates.json\", \"w\") as file:\n",
    "    json.dump(dates, file)\n",
    "dates"
   ]
  },
  {
   "cell_type": "code",
   "execution_count": null,
   "metadata": {},
   "outputs": [],
   "source": []
  }
 ],
 "metadata": {
  "kernelspec": {
   "display_name": ".venv",
   "language": "python",
   "name": "python3"
  },
  "language_info": {
   "codemirror_mode": {
    "name": "ipython",
    "version": 3
   },
   "file_extension": ".py",
   "mimetype": "text/x-python",
   "name": "python",
   "nbconvert_exporter": "python",
   "pygments_lexer": "ipython3",
   "version": "3.11.7"
  }
 },
 "nbformat": 4,
 "nbformat_minor": 2
}
